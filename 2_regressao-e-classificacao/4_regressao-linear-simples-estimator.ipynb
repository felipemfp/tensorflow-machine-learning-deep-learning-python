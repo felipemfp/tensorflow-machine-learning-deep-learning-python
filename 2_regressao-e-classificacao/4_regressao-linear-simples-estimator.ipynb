{
 "cells": [
  {
   "cell_type": "markdown",
   "metadata": {},
   "source": [
    "# Previsão do Preço de Casas com Regressão Linear\n",
    "\n",
    "Dataset: [House Sales in King County, USA](https://www.kaggle.com/harlfoxem/housesalesprediction)"
   ]
  },
  {
   "cell_type": "code",
   "execution_count": 48,
   "metadata": {},
   "outputs": [],
   "source": [
    "import pandas as pd\n",
    "base = pd.read_csv('data/house-prices.csv')"
   ]
  },
  {
   "cell_type": "code",
   "execution_count": 49,
   "metadata": {},
   "outputs": [
    {
     "data": {
      "text/html": [
       "<div>\n",
       "<style scoped>\n",
       "    .dataframe tbody tr th:only-of-type {\n",
       "        vertical-align: middle;\n",
       "    }\n",
       "\n",
       "    .dataframe tbody tr th {\n",
       "        vertical-align: top;\n",
       "    }\n",
       "\n",
       "    .dataframe thead th {\n",
       "        text-align: right;\n",
       "    }\n",
       "</style>\n",
       "<table border=\"1\" class=\"dataframe\">\n",
       "  <thead>\n",
       "    <tr style=\"text-align: right;\">\n",
       "      <th></th>\n",
       "      <th>id</th>\n",
       "      <th>date</th>\n",
       "      <th>price</th>\n",
       "      <th>bedrooms</th>\n",
       "      <th>bathrooms</th>\n",
       "      <th>sqft_living</th>\n",
       "      <th>sqft_lot</th>\n",
       "      <th>floors</th>\n",
       "      <th>waterfront</th>\n",
       "      <th>view</th>\n",
       "      <th>...</th>\n",
       "      <th>grade</th>\n",
       "      <th>sqft_above</th>\n",
       "      <th>sqft_basement</th>\n",
       "      <th>yr_built</th>\n",
       "      <th>yr_renovated</th>\n",
       "      <th>zipcode</th>\n",
       "      <th>lat</th>\n",
       "      <th>long</th>\n",
       "      <th>sqft_living15</th>\n",
       "      <th>sqft_lot15</th>\n",
       "    </tr>\n",
       "  </thead>\n",
       "  <tbody>\n",
       "    <tr>\n",
       "      <th>0</th>\n",
       "      <td>7129300520</td>\n",
       "      <td>20141013T000000</td>\n",
       "      <td>221900.0</td>\n",
       "      <td>3</td>\n",
       "      <td>1.00</td>\n",
       "      <td>1180</td>\n",
       "      <td>5650</td>\n",
       "      <td>1.0</td>\n",
       "      <td>0</td>\n",
       "      <td>0</td>\n",
       "      <td>...</td>\n",
       "      <td>7</td>\n",
       "      <td>1180</td>\n",
       "      <td>0</td>\n",
       "      <td>1955</td>\n",
       "      <td>0</td>\n",
       "      <td>98178</td>\n",
       "      <td>47.5112</td>\n",
       "      <td>-122.257</td>\n",
       "      <td>1340</td>\n",
       "      <td>5650</td>\n",
       "    </tr>\n",
       "    <tr>\n",
       "      <th>1</th>\n",
       "      <td>6414100192</td>\n",
       "      <td>20141209T000000</td>\n",
       "      <td>538000.0</td>\n",
       "      <td>3</td>\n",
       "      <td>2.25</td>\n",
       "      <td>2570</td>\n",
       "      <td>7242</td>\n",
       "      <td>2.0</td>\n",
       "      <td>0</td>\n",
       "      <td>0</td>\n",
       "      <td>...</td>\n",
       "      <td>7</td>\n",
       "      <td>2170</td>\n",
       "      <td>400</td>\n",
       "      <td>1951</td>\n",
       "      <td>1991</td>\n",
       "      <td>98125</td>\n",
       "      <td>47.7210</td>\n",
       "      <td>-122.319</td>\n",
       "      <td>1690</td>\n",
       "      <td>7639</td>\n",
       "    </tr>\n",
       "    <tr>\n",
       "      <th>2</th>\n",
       "      <td>5631500400</td>\n",
       "      <td>20150225T000000</td>\n",
       "      <td>180000.0</td>\n",
       "      <td>2</td>\n",
       "      <td>1.00</td>\n",
       "      <td>770</td>\n",
       "      <td>10000</td>\n",
       "      <td>1.0</td>\n",
       "      <td>0</td>\n",
       "      <td>0</td>\n",
       "      <td>...</td>\n",
       "      <td>6</td>\n",
       "      <td>770</td>\n",
       "      <td>0</td>\n",
       "      <td>1933</td>\n",
       "      <td>0</td>\n",
       "      <td>98028</td>\n",
       "      <td>47.7379</td>\n",
       "      <td>-122.233</td>\n",
       "      <td>2720</td>\n",
       "      <td>8062</td>\n",
       "    </tr>\n",
       "    <tr>\n",
       "      <th>3</th>\n",
       "      <td>2487200875</td>\n",
       "      <td>20141209T000000</td>\n",
       "      <td>604000.0</td>\n",
       "      <td>4</td>\n",
       "      <td>3.00</td>\n",
       "      <td>1960</td>\n",
       "      <td>5000</td>\n",
       "      <td>1.0</td>\n",
       "      <td>0</td>\n",
       "      <td>0</td>\n",
       "      <td>...</td>\n",
       "      <td>7</td>\n",
       "      <td>1050</td>\n",
       "      <td>910</td>\n",
       "      <td>1965</td>\n",
       "      <td>0</td>\n",
       "      <td>98136</td>\n",
       "      <td>47.5208</td>\n",
       "      <td>-122.393</td>\n",
       "      <td>1360</td>\n",
       "      <td>5000</td>\n",
       "    </tr>\n",
       "    <tr>\n",
       "      <th>4</th>\n",
       "      <td>1954400510</td>\n",
       "      <td>20150218T000000</td>\n",
       "      <td>510000.0</td>\n",
       "      <td>3</td>\n",
       "      <td>2.00</td>\n",
       "      <td>1680</td>\n",
       "      <td>8080</td>\n",
       "      <td>1.0</td>\n",
       "      <td>0</td>\n",
       "      <td>0</td>\n",
       "      <td>...</td>\n",
       "      <td>8</td>\n",
       "      <td>1680</td>\n",
       "      <td>0</td>\n",
       "      <td>1987</td>\n",
       "      <td>0</td>\n",
       "      <td>98074</td>\n",
       "      <td>47.6168</td>\n",
       "      <td>-122.045</td>\n",
       "      <td>1800</td>\n",
       "      <td>7503</td>\n",
       "    </tr>\n",
       "  </tbody>\n",
       "</table>\n",
       "<p>5 rows × 21 columns</p>\n",
       "</div>"
      ],
      "text/plain": [
       "           id             date     price  bedrooms  bathrooms  sqft_living  \\\n",
       "0  7129300520  20141013T000000  221900.0         3       1.00         1180   \n",
       "1  6414100192  20141209T000000  538000.0         3       2.25         2570   \n",
       "2  5631500400  20150225T000000  180000.0         2       1.00          770   \n",
       "3  2487200875  20141209T000000  604000.0         4       3.00         1960   \n",
       "4  1954400510  20150218T000000  510000.0         3       2.00         1680   \n",
       "\n",
       "   sqft_lot  floors  waterfront  view     ...      grade  sqft_above  \\\n",
       "0      5650     1.0           0     0     ...          7        1180   \n",
       "1      7242     2.0           0     0     ...          7        2170   \n",
       "2     10000     1.0           0     0     ...          6         770   \n",
       "3      5000     1.0           0     0     ...          7        1050   \n",
       "4      8080     1.0           0     0     ...          8        1680   \n",
       "\n",
       "   sqft_basement  yr_built  yr_renovated  zipcode      lat     long  \\\n",
       "0              0      1955             0    98178  47.5112 -122.257   \n",
       "1            400      1951          1991    98125  47.7210 -122.319   \n",
       "2              0      1933             0    98028  47.7379 -122.233   \n",
       "3            910      1965             0    98136  47.5208 -122.393   \n",
       "4              0      1987             0    98074  47.6168 -122.045   \n",
       "\n",
       "   sqft_living15  sqft_lot15  \n",
       "0           1340        5650  \n",
       "1           1690        7639  \n",
       "2           2720        8062  \n",
       "3           1360        5000  \n",
       "4           1800        7503  \n",
       "\n",
       "[5 rows x 21 columns]"
      ]
     },
     "execution_count": 49,
     "metadata": {},
     "output_type": "execute_result"
    }
   ],
   "source": [
    "base.head()"
   ]
  },
  {
   "cell_type": "code",
   "execution_count": 50,
   "metadata": {},
   "outputs": [
    {
     "data": {
      "text/plain": [
       "id               21613\n",
       "date             21613\n",
       "price            21613\n",
       "bedrooms         21613\n",
       "bathrooms        21613\n",
       "sqft_living      21613\n",
       "sqft_lot         21613\n",
       "floors           21613\n",
       "waterfront       21613\n",
       "view             21613\n",
       "condition        21613\n",
       "grade            21613\n",
       "sqft_above       21613\n",
       "sqft_basement    21613\n",
       "yr_built         21613\n",
       "yr_renovated     21613\n",
       "zipcode          21613\n",
       "lat              21613\n",
       "long             21613\n",
       "sqft_living15    21613\n",
       "sqft_lot15       21613\n",
       "dtype: int64"
      ]
     },
     "execution_count": 50,
     "metadata": {},
     "output_type": "execute_result"
    }
   ],
   "source": [
    "base.count()"
   ]
  },
  {
   "cell_type": "code",
   "execution_count": 51,
   "metadata": {},
   "outputs": [],
   "source": [
    "X = base.iloc[:, 5:6].values\n",
    "y = base.iloc[:, 2:3].values"
   ]
  },
  {
   "cell_type": "code",
   "execution_count": 52,
   "metadata": {
    "scrolled": true
   },
   "outputs": [
    {
     "data": {
      "text/plain": [
       "array([[1180],\n",
       "       [2570],\n",
       "       [ 770],\n",
       "       ...,\n",
       "       [1020],\n",
       "       [1600],\n",
       "       [1020]])"
      ]
     },
     "execution_count": 52,
     "metadata": {},
     "output_type": "execute_result"
    }
   ],
   "source": [
    "X"
   ]
  },
  {
   "cell_type": "code",
   "execution_count": 53,
   "metadata": {},
   "outputs": [
    {
     "data": {
      "text/plain": [
       "array([[221900.],\n",
       "       [538000.],\n",
       "       [180000.],\n",
       "       ...,\n",
       "       [402101.],\n",
       "       [400000.],\n",
       "       [325000.]])"
      ]
     },
     "execution_count": 53,
     "metadata": {},
     "output_type": "execute_result"
    }
   ],
   "source": [
    "y"
   ]
  },
  {
   "cell_type": "code",
   "execution_count": 54,
   "metadata": {},
   "outputs": [
    {
     "name": "stderr",
     "output_type": "stream",
     "text": [
      "/home/felipe/.local/share/virtualenvs/tensorflow-machine-learning-deep-learning--rkUGFC5q/lib/python3.6/site-packages/sklearn/utils/validation.py:595: DataConversionWarning: Data with input dtype int64 was converted to float64 by StandardScaler.\n",
      "  warnings.warn(msg, DataConversionWarning)\n",
      "/home/felipe/.local/share/virtualenvs/tensorflow-machine-learning-deep-learning--rkUGFC5q/lib/python3.6/site-packages/sklearn/utils/validation.py:595: DataConversionWarning: Data with input dtype int64 was converted to float64 by StandardScaler.\n",
      "  warnings.warn(msg, DataConversionWarning)\n"
     ]
    }
   ],
   "source": [
    "from sklearn.preprocessing import StandardScaler\n",
    "scaler_x = StandardScaler()\n",
    "X = scaler_x.fit_transform(X)\n",
    "scaler_y = StandardScaler()\n",
    "y = scaler_y.fit_transform(y)"
   ]
  },
  {
   "cell_type": "code",
   "execution_count": 55,
   "metadata": {},
   "outputs": [
    {
     "data": {
      "text/plain": [
       "array([[-0.97983502],\n",
       "       [ 0.53363434],\n",
       "       [-1.42625404],\n",
       "       ...,\n",
       "       [-1.15404732],\n",
       "       [-0.52252773],\n",
       "       [-1.15404732]])"
      ]
     },
     "execution_count": 55,
     "metadata": {},
     "output_type": "execute_result"
    }
   ],
   "source": [
    "X"
   ]
  },
  {
   "cell_type": "code",
   "execution_count": 56,
   "metadata": {},
   "outputs": [
    {
     "data": {
      "text/plain": [
       "array([[-0.86671733],\n",
       "       [-0.00568792],\n",
       "       [-0.98084935],\n",
       "       ...,\n",
       "       [-0.37586519],\n",
       "       [-0.38158814],\n",
       "       [-0.58588173]])"
      ]
     },
     "execution_count": 56,
     "metadata": {},
     "output_type": "execute_result"
    }
   ],
   "source": [
    "y"
   ]
  },
  {
   "cell_type": "code",
   "execution_count": 57,
   "metadata": {},
   "outputs": [],
   "source": [
    "import tensorflow as tf"
   ]
  },
  {
   "cell_type": "code",
   "execution_count": 58,
   "metadata": {},
   "outputs": [
    {
     "data": {
      "text/plain": [
       "[_NumericColumn(key='x', shape=(1,), default_value=None, dtype=tf.float32, normalizer_fn=None)]"
      ]
     },
     "execution_count": 58,
     "metadata": {},
     "output_type": "execute_result"
    }
   ],
   "source": [
    "colunas = [tf.feature_column.numeric_column('x', shape=[1])]\n",
    "colunas"
   ]
  },
  {
   "cell_type": "code",
   "execution_count": 59,
   "metadata": {},
   "outputs": [
    {
     "name": "stdout",
     "output_type": "stream",
     "text": [
      "INFO:tensorflow:Using default config.\n",
      "WARNING:tensorflow:Using temporary folder as model directory: /tmp/tmptmdf4tet\n",
      "INFO:tensorflow:Using config: {'_model_dir': '/tmp/tmptmdf4tet', '_tf_random_seed': None, '_save_summary_steps': 100, '_save_checkpoints_steps': None, '_save_checkpoints_secs': 600, '_session_config': allow_soft_placement: true\n",
      "graph_options {\n",
      "  rewrite_options {\n",
      "    meta_optimizer_iterations: ONE\n",
      "  }\n",
      "}\n",
      ", '_keep_checkpoint_max': 5, '_keep_checkpoint_every_n_hours': 10000, '_log_step_count_steps': 100, '_train_distribute': None, '_device_fn': None, '_protocol': None, '_eval_distribute': None, '_experimental_distribute': None, '_service': None, '_cluster_spec': <tensorflow.python.training.server_lib.ClusterSpec object at 0x7ffa218e1390>, '_task_type': 'worker', '_task_id': 0, '_global_id_in_cluster': 0, '_master': '', '_evaluation_master': '', '_is_chief': True, '_num_ps_replicas': 0, '_num_worker_replicas': 1}\n"
     ]
    }
   ],
   "source": [
    "regressor = tf.estimator.LinearRegressor(feature_columns=colunas)"
   ]
  },
  {
   "cell_type": "markdown",
   "metadata": {},
   "source": [
    "### Separando base de dados em treinamento e testes"
   ]
  },
  {
   "cell_type": "code",
   "execution_count": 60,
   "metadata": {},
   "outputs": [],
   "source": [
    "from sklearn.model_selection import train_test_split\n",
    "X_treinamento, X_teste, y_treinamento, y_teste = train_test_split(X, y, test_size=0.3)"
   ]
  },
  {
   "cell_type": "code",
   "execution_count": 61,
   "metadata": {},
   "outputs": [
    {
     "data": {
      "text/plain": [
       "(15129, 1)"
      ]
     },
     "execution_count": 61,
     "metadata": {},
     "output_type": "execute_result"
    }
   ],
   "source": [
    "X_treinamento.shape"
   ]
  },
  {
   "cell_type": "code",
   "execution_count": 62,
   "metadata": {},
   "outputs": [
    {
     "data": {
      "text/plain": [
       "(15129, 1)"
      ]
     },
     "execution_count": 62,
     "metadata": {},
     "output_type": "execute_result"
    }
   ],
   "source": [
    "y_treinamento.shape"
   ]
  },
  {
   "cell_type": "code",
   "execution_count": 63,
   "metadata": {},
   "outputs": [
    {
     "data": {
      "text/plain": [
       "(6484, 1)"
      ]
     },
     "execution_count": 63,
     "metadata": {},
     "output_type": "execute_result"
    }
   ],
   "source": [
    "X_teste.shape"
   ]
  },
  {
   "cell_type": "code",
   "execution_count": 64,
   "metadata": {},
   "outputs": [
    {
     "data": {
      "text/plain": [
       "(6484, 1)"
      ]
     },
     "execution_count": 64,
     "metadata": {},
     "output_type": "execute_result"
    }
   ],
   "source": [
    "y_teste.shape"
   ]
  },
  {
   "cell_type": "code",
   "execution_count": 65,
   "metadata": {},
   "outputs": [],
   "source": [
    "funcao_treinamento = tf.estimator.inputs.numpy_input_fn(\n",
    "    {'x': X_treinamento}, y_treinamento, batch_size=32, num_epochs=None, shuffle=True\n",
    ")"
   ]
  },
  {
   "cell_type": "code",
   "execution_count": 66,
   "metadata": {},
   "outputs": [],
   "source": [
    "funcao_teste = tf.estimator.inputs.numpy_input_fn(\n",
    "    {'x': X_teste}, y_teste, batch_size=32, num_epochs=1000, shuffle=False\n",
    ")"
   ]
  },
  {
   "cell_type": "code",
   "execution_count": 67,
   "metadata": {},
   "outputs": [
    {
     "name": "stdout",
     "output_type": "stream",
     "text": [
      "INFO:tensorflow:Calling model_fn.\n",
      "INFO:tensorflow:Done calling model_fn.\n",
      "INFO:tensorflow:Create CheckpointSaverHook.\n",
      "INFO:tensorflow:Graph was finalized.\n",
      "INFO:tensorflow:Running local_init_op.\n",
      "INFO:tensorflow:Done running local_init_op.\n",
      "WARNING:tensorflow:From /home/felipe/.local/share/virtualenvs/tensorflow-machine-learning-deep-learning--rkUGFC5q/lib/python3.6/site-packages/tensorflow/python/training/monitored_session.py:804: start_queue_runners (from tensorflow.python.training.queue_runner_impl) is deprecated and will be removed in a future version.\n",
      "Instructions for updating:\n",
      "To construct input pipelines, use the `tf.data` module.\n",
      "INFO:tensorflow:Saving checkpoints for 0 into /tmp/tmptmdf4tet/model.ckpt.\n",
      "INFO:tensorflow:loss = 82.50751, step = 1\n",
      "INFO:tensorflow:global_step/sec: 604.561\n",
      "INFO:tensorflow:loss = 13.804888, step = 101 (0.166 sec)\n",
      "INFO:tensorflow:global_step/sec: 642.591\n",
      "INFO:tensorflow:loss = 10.523342, step = 201 (0.156 sec)\n",
      "INFO:tensorflow:global_step/sec: 510.082\n",
      "INFO:tensorflow:loss = 16.223581, step = 301 (0.196 sec)\n",
      "INFO:tensorflow:global_step/sec: 735.897\n",
      "INFO:tensorflow:loss = 12.123659, step = 401 (0.136 sec)\n",
      "INFO:tensorflow:global_step/sec: 701.775\n",
      "INFO:tensorflow:loss = 7.855687, step = 501 (0.142 sec)\n",
      "INFO:tensorflow:global_step/sec: 639.227\n",
      "INFO:tensorflow:loss = 9.498236, step = 601 (0.160 sec)\n",
      "INFO:tensorflow:global_step/sec: 556.138\n",
      "INFO:tensorflow:loss = 12.593475, step = 701 (0.177 sec)\n",
      "INFO:tensorflow:global_step/sec: 710.387\n",
      "INFO:tensorflow:loss = 9.880184, step = 801 (0.141 sec)\n",
      "INFO:tensorflow:global_step/sec: 692.907\n",
      "INFO:tensorflow:loss = 19.05833, step = 901 (0.145 sec)\n",
      "INFO:tensorflow:global_step/sec: 721.266\n",
      "INFO:tensorflow:loss = 7.1099105, step = 1001 (0.137 sec)\n",
      "INFO:tensorflow:global_step/sec: 666.696\n",
      "INFO:tensorflow:loss = 6.2045918, step = 1101 (0.151 sec)\n",
      "INFO:tensorflow:global_step/sec: 524.992\n",
      "INFO:tensorflow:loss = 8.595199, step = 1201 (0.190 sec)\n",
      "INFO:tensorflow:global_step/sec: 657.696\n",
      "INFO:tensorflow:loss = 18.215698, step = 1301 (0.151 sec)\n",
      "INFO:tensorflow:global_step/sec: 730.851\n",
      "INFO:tensorflow:loss = 12.110579, step = 1401 (0.138 sec)\n",
      "INFO:tensorflow:global_step/sec: 738.607\n",
      "INFO:tensorflow:loss = 14.118593, step = 1501 (0.137 sec)\n",
      "INFO:tensorflow:global_step/sec: 780.723\n",
      "INFO:tensorflow:loss = 21.563223, step = 1601 (0.128 sec)\n",
      "INFO:tensorflow:global_step/sec: 423.298\n",
      "INFO:tensorflow:loss = 4.706071, step = 1701 (0.235 sec)\n",
      "INFO:tensorflow:global_step/sec: 535.595\n",
      "INFO:tensorflow:loss = 18.407022, step = 1801 (0.186 sec)\n",
      "INFO:tensorflow:global_step/sec: 704.279\n",
      "INFO:tensorflow:loss = 17.1954, step = 1901 (0.141 sec)\n",
      "INFO:tensorflow:global_step/sec: 612.435\n",
      "INFO:tensorflow:loss = 7.6644974, step = 2001 (0.164 sec)\n",
      "INFO:tensorflow:global_step/sec: 542.164\n",
      "INFO:tensorflow:loss = 8.908444, step = 2101 (0.185 sec)\n",
      "INFO:tensorflow:global_step/sec: 708.847\n",
      "INFO:tensorflow:loss = 6.4920616, step = 2201 (0.140 sec)\n",
      "INFO:tensorflow:global_step/sec: 690.946\n",
      "INFO:tensorflow:loss = 50.084496, step = 2301 (0.147 sec)\n",
      "INFO:tensorflow:global_step/sec: 730.962\n",
      "INFO:tensorflow:loss = 14.830984, step = 2401 (0.135 sec)\n",
      "INFO:tensorflow:global_step/sec: 766.565\n",
      "INFO:tensorflow:loss = 15.386618, step = 2501 (0.131 sec)\n",
      "INFO:tensorflow:global_step/sec: 695.629\n",
      "INFO:tensorflow:loss = 17.005026, step = 2601 (0.143 sec)\n",
      "INFO:tensorflow:global_step/sec: 825.579\n",
      "INFO:tensorflow:loss = 20.413853, step = 2701 (0.124 sec)\n",
      "INFO:tensorflow:global_step/sec: 770.816\n",
      "INFO:tensorflow:loss = 19.955227, step = 2801 (0.127 sec)\n",
      "INFO:tensorflow:global_step/sec: 559.139\n",
      "INFO:tensorflow:loss = 11.01923, step = 2901 (0.180 sec)\n",
      "INFO:tensorflow:global_step/sec: 541.292\n",
      "INFO:tensorflow:loss = 6.9638343, step = 3001 (0.182 sec)\n",
      "INFO:tensorflow:global_step/sec: 781.238\n",
      "INFO:tensorflow:loss = 51.703506, step = 3101 (0.131 sec)\n",
      "INFO:tensorflow:global_step/sec: 697.819\n",
      "INFO:tensorflow:loss = 22.582119, step = 3201 (0.141 sec)\n",
      "INFO:tensorflow:global_step/sec: 727.965\n",
      "INFO:tensorflow:loss = 10.435349, step = 3301 (0.138 sec)\n",
      "INFO:tensorflow:global_step/sec: 710.881\n",
      "INFO:tensorflow:loss = 24.567726, step = 3401 (0.140 sec)\n",
      "INFO:tensorflow:global_step/sec: 753.209\n",
      "INFO:tensorflow:loss = 13.427755, step = 3501 (0.134 sec)\n",
      "INFO:tensorflow:global_step/sec: 619.31\n",
      "INFO:tensorflow:loss = 14.208012, step = 3601 (0.163 sec)\n",
      "INFO:tensorflow:global_step/sec: 539.648\n",
      "INFO:tensorflow:loss = 9.262221, step = 3701 (0.184 sec)\n",
      "INFO:tensorflow:global_step/sec: 728.555\n",
      "INFO:tensorflow:loss = 34.286186, step = 3801 (0.135 sec)\n",
      "INFO:tensorflow:global_step/sec: 671.121\n",
      "INFO:tensorflow:loss = 27.907381, step = 3901 (0.152 sec)\n",
      "INFO:tensorflow:global_step/sec: 541.154\n",
      "INFO:tensorflow:loss = 9.419497, step = 4001 (0.185 sec)\n",
      "INFO:tensorflow:global_step/sec: 655.309\n",
      "INFO:tensorflow:loss = 20.790075, step = 4101 (0.150 sec)\n",
      "INFO:tensorflow:global_step/sec: 728.295\n",
      "INFO:tensorflow:loss = 11.101946, step = 4201 (0.137 sec)\n",
      "INFO:tensorflow:global_step/sec: 777.607\n",
      "INFO:tensorflow:loss = 7.828975, step = 4301 (0.130 sec)\n",
      "INFO:tensorflow:global_step/sec: 660.439\n",
      "INFO:tensorflow:loss = 8.277201, step = 4401 (0.151 sec)\n",
      "INFO:tensorflow:global_step/sec: 512.986\n",
      "INFO:tensorflow:loss = 33.249413, step = 4501 (0.195 sec)\n",
      "INFO:tensorflow:global_step/sec: 501.814\n",
      "INFO:tensorflow:loss = 7.1572485, step = 4601 (0.199 sec)\n",
      "INFO:tensorflow:global_step/sec: 328.818\n",
      "INFO:tensorflow:loss = 7.417549, step = 4701 (0.313 sec)\n",
      "INFO:tensorflow:global_step/sec: 474.439\n",
      "INFO:tensorflow:loss = 27.891832, step = 4801 (0.201 sec)\n",
      "INFO:tensorflow:global_step/sec: 494.834\n",
      "INFO:tensorflow:loss = 17.45322, step = 4901 (0.203 sec)\n",
      "INFO:tensorflow:global_step/sec: 526.122\n",
      "INFO:tensorflow:loss = 12.993501, step = 5001 (0.191 sec)\n",
      "INFO:tensorflow:global_step/sec: 529.785\n",
      "INFO:tensorflow:loss = 12.937575, step = 5101 (0.188 sec)\n",
      "INFO:tensorflow:global_step/sec: 561.945\n",
      "INFO:tensorflow:loss = 12.392574, step = 5201 (0.179 sec)\n",
      "INFO:tensorflow:global_step/sec: 542.745\n",
      "INFO:tensorflow:loss = 6.5405793, step = 5301 (0.183 sec)\n",
      "INFO:tensorflow:global_step/sec: 547.953\n",
      "INFO:tensorflow:loss = 11.284374, step = 5401 (0.183 sec)\n",
      "INFO:tensorflow:global_step/sec: 555.189\n",
      "INFO:tensorflow:loss = 14.507048, step = 5501 (0.180 sec)\n",
      "INFO:tensorflow:global_step/sec: 449.69\n",
      "INFO:tensorflow:loss = 8.304883, step = 5601 (0.223 sec)\n",
      "INFO:tensorflow:global_step/sec: 527.672\n",
      "INFO:tensorflow:loss = 49.535934, step = 5701 (0.190 sec)\n",
      "INFO:tensorflow:global_step/sec: 537.663\n",
      "INFO:tensorflow:loss = 6.5144114, step = 5801 (0.186 sec)\n",
      "INFO:tensorflow:global_step/sec: 524.889\n",
      "INFO:tensorflow:loss = 6.4765477, step = 5901 (0.191 sec)\n",
      "INFO:tensorflow:global_step/sec: 471.642\n",
      "INFO:tensorflow:loss = 22.07156, step = 6001 (0.211 sec)\n",
      "INFO:tensorflow:global_step/sec: 494.868\n",
      "INFO:tensorflow:loss = 8.311549, step = 6101 (0.202 sec)\n",
      "INFO:tensorflow:global_step/sec: 520.88\n",
      "INFO:tensorflow:loss = 14.233508, step = 6201 (0.192 sec)\n",
      "INFO:tensorflow:global_step/sec: 444.568\n",
      "INFO:tensorflow:loss = 5.803566, step = 6301 (0.225 sec)\n",
      "INFO:tensorflow:global_step/sec: 495.288\n",
      "INFO:tensorflow:loss = 7.502592, step = 6401 (0.201 sec)\n",
      "INFO:tensorflow:global_step/sec: 435.447\n",
      "INFO:tensorflow:loss = 10.202219, step = 6501 (0.230 sec)\n",
      "INFO:tensorflow:global_step/sec: 443.366\n",
      "INFO:tensorflow:loss = 5.2930226, step = 6601 (0.225 sec)\n",
      "INFO:tensorflow:global_step/sec: 498.001\n",
      "INFO:tensorflow:loss = 11.832985, step = 6701 (0.201 sec)\n",
      "INFO:tensorflow:global_step/sec: 534.02\n",
      "INFO:tensorflow:loss = 9.207647, step = 6801 (0.189 sec)\n",
      "INFO:tensorflow:global_step/sec: 451.568\n",
      "INFO:tensorflow:loss = 10.429451, step = 6901 (0.219 sec)\n",
      "INFO:tensorflow:global_step/sec: 480.45\n",
      "INFO:tensorflow:loss = 12.9187155, step = 7001 (0.208 sec)\n",
      "INFO:tensorflow:global_step/sec: 417.732\n",
      "INFO:tensorflow:loss = 8.958905, step = 7101 (0.240 sec)\n",
      "INFO:tensorflow:global_step/sec: 516.579\n",
      "INFO:tensorflow:loss = 4.8533754, step = 7201 (0.193 sec)\n",
      "INFO:tensorflow:global_step/sec: 519.824\n",
      "INFO:tensorflow:loss = 13.290543, step = 7301 (0.193 sec)\n",
      "INFO:tensorflow:global_step/sec: 426.728\n",
      "INFO:tensorflow:loss = 14.584006, step = 7401 (0.235 sec)\n",
      "INFO:tensorflow:global_step/sec: 448.774\n",
      "INFO:tensorflow:loss = 10.120785, step = 7501 (0.222 sec)\n",
      "INFO:tensorflow:global_step/sec: 472.446\n",
      "INFO:tensorflow:loss = 7.733343, step = 7601 (0.211 sec)\n"
     ]
    },
    {
     "name": "stdout",
     "output_type": "stream",
     "text": [
      "INFO:tensorflow:global_step/sec: 410.233\n",
      "INFO:tensorflow:loss = 6.8921022, step = 7701 (0.243 sec)\n",
      "INFO:tensorflow:global_step/sec: 423.338\n",
      "INFO:tensorflow:loss = 23.149643, step = 7801 (0.237 sec)\n",
      "INFO:tensorflow:global_step/sec: 517.108\n",
      "INFO:tensorflow:loss = 7.7181773, step = 7901 (0.194 sec)\n",
      "INFO:tensorflow:global_step/sec: 432.78\n",
      "INFO:tensorflow:loss = 32.654583, step = 8001 (0.237 sec)\n",
      "INFO:tensorflow:global_step/sec: 474.53\n",
      "INFO:tensorflow:loss = 9.776735, step = 8101 (0.203 sec)\n",
      "INFO:tensorflow:global_step/sec: 543.847\n",
      "INFO:tensorflow:loss = 8.475598, step = 8201 (0.184 sec)\n",
      "INFO:tensorflow:global_step/sec: 558.34\n",
      "INFO:tensorflow:loss = 23.284298, step = 8301 (0.179 sec)\n",
      "INFO:tensorflow:global_step/sec: 421.287\n",
      "INFO:tensorflow:loss = 51.693577, step = 8401 (0.241 sec)\n",
      "INFO:tensorflow:global_step/sec: 574.947\n",
      "INFO:tensorflow:loss = 11.835712, step = 8501 (0.170 sec)\n",
      "INFO:tensorflow:global_step/sec: 474.94\n",
      "INFO:tensorflow:loss = 15.1340275, step = 8601 (0.215 sec)\n",
      "INFO:tensorflow:global_step/sec: 472.785\n",
      "INFO:tensorflow:loss = 23.020191, step = 8701 (0.208 sec)\n",
      "INFO:tensorflow:global_step/sec: 516.851\n",
      "INFO:tensorflow:loss = 11.223455, step = 8801 (0.193 sec)\n",
      "INFO:tensorflow:global_step/sec: 460.316\n",
      "INFO:tensorflow:loss = 16.554607, step = 8901 (0.217 sec)\n",
      "INFO:tensorflow:global_step/sec: 494.237\n",
      "INFO:tensorflow:loss = 11.549282, step = 9001 (0.203 sec)\n",
      "INFO:tensorflow:global_step/sec: 550.126\n",
      "INFO:tensorflow:loss = 6.613537, step = 9101 (0.181 sec)\n",
      "INFO:tensorflow:global_step/sec: 498.05\n",
      "INFO:tensorflow:loss = 20.156155, step = 9201 (0.205 sec)\n",
      "INFO:tensorflow:global_step/sec: 533.993\n",
      "INFO:tensorflow:loss = 13.479058, step = 9301 (0.184 sec)\n",
      "INFO:tensorflow:global_step/sec: 458.273\n",
      "INFO:tensorflow:loss = 8.214038, step = 9401 (0.218 sec)\n",
      "INFO:tensorflow:global_step/sec: 420.781\n",
      "INFO:tensorflow:loss = 23.14693, step = 9501 (0.242 sec)\n",
      "INFO:tensorflow:global_step/sec: 482.14\n",
      "INFO:tensorflow:loss = 22.410192, step = 9601 (0.205 sec)\n",
      "INFO:tensorflow:global_step/sec: 543.31\n",
      "INFO:tensorflow:loss = 7.2831, step = 9701 (0.182 sec)\n",
      "INFO:tensorflow:global_step/sec: 395.644\n",
      "INFO:tensorflow:loss = 18.270174, step = 9801 (0.253 sec)\n",
      "INFO:tensorflow:global_step/sec: 500.973\n",
      "INFO:tensorflow:loss = 6.531005, step = 9901 (0.200 sec)\n",
      "INFO:tensorflow:Saving checkpoints for 10000 into /tmp/tmptmdf4tet/model.ckpt.\n",
      "INFO:tensorflow:Loss for final step: 12.266939.\n"
     ]
    },
    {
     "data": {
      "text/plain": [
       "<tensorflow.python.estimator.canned.linear.LinearRegressor at 0x7ffa218e1a20>"
      ]
     },
     "execution_count": 67,
     "metadata": {},
     "output_type": "execute_result"
    }
   ],
   "source": [
    "regressor.train(input_fn=funcao_treinamento, steps=10000)"
   ]
  },
  {
   "cell_type": "code",
   "execution_count": 68,
   "metadata": {},
   "outputs": [
    {
     "name": "stdout",
     "output_type": "stream",
     "text": [
      "INFO:tensorflow:Calling model_fn.\n",
      "INFO:tensorflow:Done calling model_fn.\n",
      "INFO:tensorflow:Starting evaluation at 2019-01-08-01:57:45\n",
      "INFO:tensorflow:Graph was finalized.\n",
      "INFO:tensorflow:Restoring parameters from /tmp/tmptmdf4tet/model.ckpt-10000\n",
      "INFO:tensorflow:Running local_init_op.\n",
      "INFO:tensorflow:Done running local_init_op.\n",
      "INFO:tensorflow:Evaluation [1000/10000]\n",
      "INFO:tensorflow:Evaluation [2000/10000]\n",
      "INFO:tensorflow:Evaluation [3000/10000]\n",
      "INFO:tensorflow:Evaluation [4000/10000]\n",
      "INFO:tensorflow:Evaluation [5000/10000]\n",
      "INFO:tensorflow:Evaluation [6000/10000]\n",
      "INFO:tensorflow:Evaluation [7000/10000]\n",
      "INFO:tensorflow:Evaluation [8000/10000]\n",
      "INFO:tensorflow:Evaluation [9000/10000]\n",
      "INFO:tensorflow:Evaluation [10000/10000]\n",
      "INFO:tensorflow:Finished evaluation at 2019-01-08-01:58:00\n",
      "INFO:tensorflow:Saving dict for global step 10000: average_loss = 0.49414554, global_step = 10000, label/mean = -0.0040014153, loss = 15.812657, prediction/mean = -0.013690858\n",
      "INFO:tensorflow:Saving 'checkpoint_path' summary for global step 10000: /tmp/tmptmdf4tet/model.ckpt-10000\n"
     ]
    }
   ],
   "source": [
    "metricas_treinamento = regressor.evaluate(input_fn=funcao_treinamento, steps=10000)"
   ]
  },
  {
   "cell_type": "code",
   "execution_count": 69,
   "metadata": {},
   "outputs": [
    {
     "name": "stdout",
     "output_type": "stream",
     "text": [
      "INFO:tensorflow:Calling model_fn.\n",
      "INFO:tensorflow:Done calling model_fn.\n",
      "INFO:tensorflow:Starting evaluation at 2019-01-08-01:58:29\n",
      "INFO:tensorflow:Graph was finalized.\n",
      "INFO:tensorflow:Restoring parameters from /tmp/tmptmdf4tet/model.ckpt-10000\n",
      "INFO:tensorflow:Running local_init_op.\n",
      "INFO:tensorflow:Done running local_init_op.\n",
      "INFO:tensorflow:Evaluation [1000/10000]\n",
      "INFO:tensorflow:Evaluation [2000/10000]\n",
      "INFO:tensorflow:Evaluation [3000/10000]\n",
      "INFO:tensorflow:Evaluation [4000/10000]\n",
      "INFO:tensorflow:Evaluation [5000/10000]\n",
      "INFO:tensorflow:Evaluation [6000/10000]\n",
      "INFO:tensorflow:Evaluation [7000/10000]\n",
      "INFO:tensorflow:Evaluation [8000/10000]\n",
      "INFO:tensorflow:Evaluation [9000/10000]\n",
      "INFO:tensorflow:Evaluation [10000/10000]\n",
      "INFO:tensorflow:Finished evaluation at 2019-01-08-01:58:41\n",
      "INFO:tensorflow:Saving dict for global step 10000: average_loss = 0.5389696, global_step = 10000, label/mean = 0.009826587, loss = 17.247026, prediction/mean = -0.01508721\n",
      "INFO:tensorflow:Saving 'checkpoint_path' summary for global step 10000: /tmp/tmptmdf4tet/model.ckpt-10000\n"
     ]
    }
   ],
   "source": [
    "metricas_teste = regressor.evaluate(input_fn=funcao_teste, steps=10000)"
   ]
  },
  {
   "cell_type": "code",
   "execution_count": 70,
   "metadata": {},
   "outputs": [
    {
     "data": {
      "text/plain": [
       "{'average_loss': 0.49414554,\n",
       " 'label/mean': -0.0040014153,\n",
       " 'loss': 15.812657,\n",
       " 'prediction/mean': -0.013690858,\n",
       " 'global_step': 10000}"
      ]
     },
     "execution_count": 70,
     "metadata": {},
     "output_type": "execute_result"
    }
   ],
   "source": [
    "metricas_treinamento"
   ]
  },
  {
   "cell_type": "code",
   "execution_count": 71,
   "metadata": {},
   "outputs": [
    {
     "data": {
      "text/plain": [
       "{'average_loss': 0.5389696,\n",
       " 'label/mean': 0.009826587,\n",
       " 'loss': 17.247026,\n",
       " 'prediction/mean': -0.01508721,\n",
       " 'global_step': 10000}"
      ]
     },
     "execution_count": 71,
     "metadata": {},
     "output_type": "execute_result"
    }
   ],
   "source": [
    "metricas_teste"
   ]
  },
  {
   "cell_type": "markdown",
   "metadata": {},
   "source": [
    "### Previsões"
   ]
  },
  {
   "cell_type": "code",
   "execution_count": 72,
   "metadata": {},
   "outputs": [
    {
     "data": {
      "text/plain": [
       "array([[ 800],\n",
       "       [ 900],\n",
       "       [1000]])"
      ]
     },
     "execution_count": 72,
     "metadata": {},
     "output_type": "execute_result"
    }
   ],
   "source": [
    "import numpy as np\n",
    "novas_casas = np.array([[800], [900], [1000]])\n",
    "novas_casas"
   ]
  },
  {
   "cell_type": "code",
   "execution_count": 73,
   "metadata": {},
   "outputs": [
    {
     "name": "stderr",
     "output_type": "stream",
     "text": [
      "/home/felipe/.local/share/virtualenvs/tensorflow-machine-learning-deep-learning--rkUGFC5q/lib/python3.6/site-packages/sklearn/utils/validation.py:595: DataConversionWarning: Data with input dtype int64 was converted to float64 by StandardScaler.\n",
      "  warnings.warn(msg, DataConversionWarning)\n"
     ]
    },
    {
     "data": {
      "text/plain": [
       "array([[-1.39358923],\n",
       "       [-1.28470655],\n",
       "       [-1.17582386]])"
      ]
     },
     "execution_count": 73,
     "metadata": {},
     "output_type": "execute_result"
    }
   ],
   "source": [
    "novas_casas = scaler_x.transform(novas_casas)\n",
    "novas_casas"
   ]
  },
  {
   "cell_type": "code",
   "execution_count": 74,
   "metadata": {},
   "outputs": [],
   "source": [
    "funcao_previsao = tf.estimator.inputs.numpy_input_fn({'x': novas_casas}, shuffle=False)"
   ]
  },
  {
   "cell_type": "code",
   "execution_count": 75,
   "metadata": {},
   "outputs": [],
   "source": [
    "previsoes = regressor.predict(input_fn=funcao_previsao)"
   ]
  },
  {
   "cell_type": "code",
   "execution_count": 76,
   "metadata": {},
   "outputs": [
    {
     "data": {
      "text/plain": [
       "<generator object Estimator.predict at 0x7ffa20d9d728>"
      ]
     },
     "execution_count": 76,
     "metadata": {},
     "output_type": "execute_result"
    }
   ],
   "source": [
    "previsoes"
   ]
  },
  {
   "cell_type": "code",
   "execution_count": 77,
   "metadata": {},
   "outputs": [
    {
     "name": "stdout",
     "output_type": "stream",
     "text": [
      "INFO:tensorflow:Calling model_fn.\n",
      "INFO:tensorflow:Done calling model_fn.\n",
      "INFO:tensorflow:Graph was finalized.\n",
      "INFO:tensorflow:Restoring parameters from /tmp/tmptmdf4tet/model.ckpt-10000\n",
      "INFO:tensorflow:Running local_init_op.\n",
      "INFO:tensorflow:Done running local_init_op.\n"
     ]
    },
    {
     "data": {
      "text/plain": [
       "[{'predictions': array([-0.9762077], dtype=float32)},\n",
       " {'predictions': array([-0.9010448], dtype=float32)},\n",
       " {'predictions': array([-0.82588184], dtype=float32)}]"
      ]
     },
     "execution_count": 77,
     "metadata": {},
     "output_type": "execute_result"
    }
   ],
   "source": [
    "list(previsoes)"
   ]
  },
  {
   "cell_type": "code",
   "execution_count": 79,
   "metadata": {},
   "outputs": [
    {
     "name": "stdout",
     "output_type": "stream",
     "text": [
      "INFO:tensorflow:Calling model_fn.\n",
      "INFO:tensorflow:Done calling model_fn.\n",
      "INFO:tensorflow:Graph was finalized.\n",
      "INFO:tensorflow:Restoring parameters from /tmp/tmptmdf4tet/model.ckpt-10000\n",
      "INFO:tensorflow:Running local_init_op.\n",
      "INFO:tensorflow:Done running local_init_op.\n",
      "[181704.05]\n",
      "[209297.73]\n",
      "[236891.48]\n"
     ]
    }
   ],
   "source": [
    "for p in regressor.predict(funcao_previsao):\n",
    "#     print(p['predictions'])\n",
    "    print(scaler_y.inverse_transform(p['predictions']))"
   ]
  }
 ],
 "metadata": {
  "kernelspec": {
   "display_name": "Python 3",
   "language": "python",
   "name": "python3"
  },
  "language_info": {
   "codemirror_mode": {
    "name": "ipython",
    "version": 3
   },
   "file_extension": ".py",
   "mimetype": "text/x-python",
   "name": "python",
   "nbconvert_exporter": "python",
   "pygments_lexer": "ipython3",
   "version": "3.6.8"
  }
 },
 "nbformat": 4,
 "nbformat_minor": 2
}
