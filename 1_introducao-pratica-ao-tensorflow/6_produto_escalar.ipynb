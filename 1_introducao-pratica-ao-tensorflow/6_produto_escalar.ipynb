{
 "cells": [
  {
   "cell_type": "code",
   "execution_count": 1,
   "metadata": {},
   "outputs": [],
   "source": [
    "import tensorflow as tf"
   ]
  },
  {
   "cell_type": "code",
   "execution_count": 8,
   "metadata": {},
   "outputs": [],
   "source": [
    "a = tf.constant([[-1., 7., 5.]], name='entradas')"
   ]
  },
  {
   "cell_type": "code",
   "execution_count": 9,
   "metadata": {},
   "outputs": [],
   "source": [
    "b = tf.constant([[.8, .1, 0]], name='pesos')"
   ]
  },
  {
   "cell_type": "code",
   "execution_count": 10,
   "metadata": {
    "scrolled": true
   },
   "outputs": [
    {
     "name": "stdout",
     "output_type": "stream",
     "text": [
      "a: [[-1.  7.  5.]]\n",
      "b: [[0.8 0.1 0. ]]\n"
     ]
    }
   ],
   "source": [
    "with tf.Session() as s:\n",
    "    print('a:',s.run(a))\n",
    "    print('b:',s.run(b))"
   ]
  },
  {
   "cell_type": "code",
   "execution_count": 12,
   "metadata": {},
   "outputs": [],
   "source": [
    "mult = tf.multiply(a, b)"
   ]
  },
  {
   "cell_type": "code",
   "execution_count": 14,
   "metadata": {},
   "outputs": [
    {
     "name": "stdout",
     "output_type": "stream",
     "text": [
      "[[-0.8  0.7  0. ]]\n"
     ]
    }
   ],
   "source": [
    "with tf.Session() as s:\n",
    "    print(s.run(mult))"
   ]
  },
  {
   "cell_type": "code",
   "execution_count": 15,
   "metadata": {
    "scrolled": true
   },
   "outputs": [
    {
     "name": "stdout",
     "output_type": "stream",
     "text": [
      "[[-0.8  0.7  0. ]]\n",
      "-0.100000024\n"
     ]
    }
   ],
   "source": [
    "soma = tf.reduce_sum(mult)\n",
    "with tf.Session() as s:\n",
    "    print(s.run(mult))\n",
    "    print(s.run(soma))"
   ]
  }
 ],
 "metadata": {
  "kernelspec": {
   "display_name": "Python 3",
   "language": "python",
   "name": "python3"
  },
  "language_info": {
   "codemirror_mode": {
    "name": "ipython",
    "version": 3
   },
   "file_extension": ".py",
   "mimetype": "text/x-python",
   "name": "python",
   "nbconvert_exporter": "python",
   "pygments_lexer": "ipython3",
   "version": "3.6.8"
  }
 },
 "nbformat": 4,
 "nbformat_minor": 2
}
